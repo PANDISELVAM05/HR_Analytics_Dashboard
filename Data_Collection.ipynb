{
 "cells": [
  {
   "cell_type": "code",
   "execution_count": 2,
   "id": "a5b30f06",
   "metadata": {},
   "outputs": [
    {
     "name": "stdout",
     "output_type": "stream",
     "text": [
      "All data saved to output.csv ✅\n"
     ]
    }
   ],
   "source": [
    "from bs4 import BeautifulSoup\n",
    "import requests\n",
    "import csv\n",
    "\n",
    "url = \"https://www.flipkart.com/search?q=mobile+5g&sid=tyy%2C4io&as=on&as-show=on&otracker=AS_QueryStore_OrganicAutoSuggest_3_3_na_na_na&otracker1=AS_QueryStore_OrganicAutoSuggest_3_3_na_na_na&as-pos=3&as-type=RECENT&suggestionId=mobile+5g%7CMobiles&requestId=c85929ca-8772-4671-9daf-6148bc83d934&as-searchtext=mobile%205g\"\n",
    "headers = {\"User-Agent\" : \"Mozilla/5.0 (Windows NT 10.0; Win64; x64) AppleWebKit/537.36 (KHTML, like Gecko) Chrome/139.0.0.0 Safari/537.36\"}\n",
    "\n",
    "response = requests.get(url, headers=headers)\n",
    "\n",
    "if response.status_code == 200:\n",
    "    html_content = response.text\n",
    "else:\n",
    "    print(\"Fetching error\", response.status_code)\n",
    "    exit()\n",
    "\n",
    "soup = BeautifulSoup(html_content, 'lxml')\n",
    "\n",
    "# open CSV file\n",
    "with open(\"output.csv\", \"w\", newline=\"\", encoding=\"utf-8\") as file:\n",
    "    writer = csv.writer(file)\n",
    "    writer.writerow([\"product_title\", \"product_price\", \"product_spec\", \"product_Orate\", \"product_offer\", \"product_rating\"])\n",
    "\n",
    "    # loop over all product containers\n",
    "    products = soup.find_all(\"div\", class_=\"_75nlfW\")   # <-- container for each product\n",
    "    for product in products:\n",
    "        try:\n",
    "            title = product.find(\"div\", class_=\"KzDlHZ\").text.strip()\n",
    "        except:\n",
    "            title = None\n",
    "\n",
    "        try:\n",
    "            price = product.find(\"div\", class_=\"Nx9bqj _4b5DiR\").text.strip()\n",
    "        except:\n",
    "            price = None\n",
    "\n",
    "        try:\n",
    "            spec = product.find(\"div\", class_=\"_6NESgJ\").text.strip()\n",
    "        except:\n",
    "            spec = None\n",
    "\n",
    "        try:\n",
    "            orate = product.find(\"div\", class_=\"yRaY8j ZYYwLA\").text.strip()\n",
    "        except:\n",
    "            orate = None\n",
    "\n",
    "        try:\n",
    "            offer = product.find(\"div\", class_=\"n5vj9c\").text.strip()\n",
    "        except:\n",
    "            offer = None\n",
    "\n",
    "        try:\n",
    "            rating = product.find(\"div\", class_=\"XQDdHH\").text.strip()\n",
    "        except:\n",
    "            rating = None\n",
    "\n",
    "        writer.writerow([title, price, spec, orate, offer, rating])\n",
    "\n",
    "print(\"All data saved to output.csv ✅\")\n"
   ]
  }
 ],
 "metadata": {
  "kernelspec": {
   "display_name": "Python 3",
   "language": "python",
   "name": "python3"
  },
  "language_info": {
   "codemirror_mode": {
    "name": "ipython",
    "version": 3
   },
   "file_extension": ".py",
   "mimetype": "text/x-python",
   "name": "python",
   "nbconvert_exporter": "python",
   "pygments_lexer": "ipython3",
   "version": "3.11.9"
  }
 },
 "nbformat": 4,
 "nbformat_minor": 5
}
